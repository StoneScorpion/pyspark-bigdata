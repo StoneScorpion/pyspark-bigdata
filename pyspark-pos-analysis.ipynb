{
 "cells": [
  {
   "cell_type": "markdown",
   "id": "bcfebaea",
   "metadata": {
    "tags": []
   },
   "source": [
    "# PySpark Part of Speech (POS) analysis\n",
    "Text taken from [Reuters](https://www.reuters.com/business/finance/banks-beware-outsiders-are-cracking-code-finance-2021-09-17/)."
   ]
  },
  {
   "cell_type": "code",
   "execution_count": 1,
   "id": "b9f1aef3",
   "metadata": {},
   "outputs": [],
   "source": [
    "import nltk\n",
    "from pyspark import SparkContext"
   ]
  },
  {
   "cell_type": "code",
   "execution_count": 2,
   "id": "32c7a9d1",
   "metadata": {},
   "outputs": [
    {
     "name": "stderr",
     "output_type": "stream",
     "text": [
      "[nltk_data] Downloading package punkt to C:\\Users\\Alfredo\n",
      "[nltk_data]     Salazar\\AppData\\Roaming\\nltk_data...\n",
      "[nltk_data]   Package punkt is already up-to-date!\n",
      "[nltk_data] Downloading package averaged_perceptron_tagger to\n",
      "[nltk_data]     C:\\Users\\Alfredo Salazar\\AppData\\Roaming\\nltk_data...\n",
      "[nltk_data]   Package averaged_perceptron_tagger is already up-to-\n",
      "[nltk_data]       date!\n"
     ]
    },
    {
     "data": {
      "text/plain": [
       "True"
      ]
     },
     "execution_count": 2,
     "metadata": {},
     "output_type": "execute_result"
    }
   ],
   "source": [
    "nltk.download(\"punkt\")\n",
    "nltk.download(\"averaged_perceptron_tagger\")"
   ]
  },
  {
   "cell_type": "code",
   "execution_count": 3,
   "id": "d851866a",
   "metadata": {},
   "outputs": [],
   "source": [
    "# Entry point for working with RDD\n",
    "sc = SparkContext(appName = \"pyspark-pos-analysis\")"
   ]
  },
  {
   "cell_type": "code",
   "execution_count": 4,
   "id": "76287a37",
   "metadata": {},
   "outputs": [],
   "source": [
    "# Loading a text file\n",
    "rdd_reuters = sc.textFile(\"./data/reuters.txt\")"
   ]
  },
  {
   "cell_type": "code",
   "execution_count": 5,
   "id": "3343ed12",
   "metadata": {},
   "outputs": [
    {
     "data": {
      "text/plain": [
       "87"
      ]
     },
     "execution_count": 5,
     "metadata": {},
     "output_type": "execute_result"
    }
   ],
   "source": [
    "# Line counter inside text file\n",
    "rdd_reuters.count()"
   ]
  },
  {
   "cell_type": "code",
   "execution_count": 6,
   "id": "407d4038",
   "metadata": {},
   "outputs": [
    {
     "data": {
      "text/plain": [
       "['Banks',\n",
       " 'beware,',\n",
       " 'Amazon',\n",
       " 'and',\n",
       " 'Walmart',\n",
       " 'are',\n",
       " 'cracking',\n",
       " 'the',\n",
       " 'code',\n",
       " 'for',\n",
       " 'finance',\n",
       " '',\n",
       " 'LONDON,',\n",
       " 'Sept',\n",
       " '17']"
      ]
     },
     "execution_count": 6,
     "metadata": {},
     "output_type": "execute_result"
    }
   ],
   "source": [
    "# Retrieve first words\n",
    "rdd_reuters.flatMap(lambda x: x.split(\" \")).take(15)"
   ]
  },
  {
   "cell_type": "code",
   "execution_count": 7,
   "id": "82d3566c",
   "metadata": {},
   "outputs": [
    {
     "data": {
      "text/plain": [
       "PythonRDD[4] at RDD at PythonRDD.scala:53"
      ]
     },
     "execution_count": 7,
     "metadata": {},
     "output_type": "execute_result"
    }
   ],
   "source": [
    "# Data frame\n",
    "rdd_reuters.map(lambda x: x.word_tokenize().take(87))"
   ]
  },
  {
   "cell_type": "code",
   "execution_count": 8,
   "id": "8982c10f",
   "metadata": {},
   "outputs": [
    {
     "data": {
      "text/plain": [
       "PythonRDD[8] at RDD at PythonRDD.scala:53"
      ]
     },
     "execution_count": 8,
     "metadata": {},
     "output_type": "execute_result"
    }
   ],
   "source": [
    "# Classified data frame\n",
    "lines = sc.textFile(\"./data/reuters.txt\")\n",
    "lineLengths = lines.map(lambda s: len(s))\n",
    "totalLength = lineLengths.reduce(lambda a, b: a + b)\n",
    "lineLengths.persist()"
   ]
  },
  {
   "cell_type": "code",
   "execution_count": 9,
   "id": "903711d2",
   "metadata": {},
   "outputs": [
    {
     "data": {
      "text/plain": [
       "['Banks beware, Amazon and Walmart are cracking the code for finance',\n",
       " '',\n",
       " 'LONDON, Sept 17 (Reuters) - Anyone can be a banker these days, you just need the right code.',\n",
       " '',\n",
       " 'Global brands from Mercedes and Amazon (AMZN.O) to IKEA and Walmart (WMT.N) are cutting out the traditional financial middleman and plugging in software from tech startups to offer customers everything from banking and credit to insurance.',\n",
       " '',\n",
       " 'For established financial institutions, the warning signs are flashing.',\n",
       " '',\n",
       " 'So-called embedded finance - a fancy term for companies integrating software to offer financial services - means Amazon can let customers \"buy now pay later\" when they check out and Mercedes drivers can get their cars to pay for their fuel.',\n",
       " '']"
      ]
     },
     "execution_count": 9,
     "metadata": {},
     "output_type": "execute_result"
    }
   ],
   "source": [
    "# We recover lines of text\n",
    "rdd_reuters.take(10)"
   ]
  },
  {
   "cell_type": "code",
   "execution_count": 10,
   "id": "03401312-f2cf-4214-9028-d3c63212f3ef",
   "metadata": {
    "tags": []
   },
   "outputs": [
    {
     "data": {
      "text/plain": [
       "['Banks beware, Amazon and Walmart are cracking the code for finance',\n",
       " '',\n",
       " 'LONDON, Sept 17 (Reuters) - Anyone can be a banker these days, you just need the right code.',\n",
       " '',\n",
       " 'Global brands from Mercedes and Amazon (AMZN.O) to IKEA and Walmart (WMT.N) are cutting out the traditional financial middleman and plugging in software from tech startups to offer customers everything from banking and credit to insurance.',\n",
       " '',\n",
       " 'For established financial institutions, the warning signs are flashing.',\n",
       " '',\n",
       " 'So-called embedded finance - a fancy term for companies integrating software to offer financial services - means Amazon can let customers \"buy now pay later\" when they check out and Mercedes drivers can get their cars to pay for their fuel.',\n",
       " '',\n",
       " 'To be sure, banks are still behind most of the transactions but investors and analysts say the risk for traditional lenders is that they will get pushed further away from the front end of the finance chain.',\n",
       " '',\n",
       " \"And that means they'll be further away from the mountains of data others are hoovering up about the preferences and behaviours of their customers - data that could be crucial in giving them an edge over banks in financial services.\",\n",
       " '',\n",
       " '\"Embedded financial services takes the cross-sell concept to new heights. It\\'s predicated on a deep software-based ongoing data relationship with the consumer and business,\" said Matt Harris, a partner at investor Bain Capital Ventures.',\n",
       " '',\n",
       " '\"That is why this revolution is so important,\" he said. \"It means that all the good risk is going to go to these embedded companies that know so much about their customers and what is left over will go to banks and insurance companies.\"',\n",
       " '',\n",
       " 'WHERE DO YOU WANT TO PLAY?',\n",
       " '',\n",
       " 'For now, many areas of embedded finance are barely denting the dominance of banks and even though some upstarts have licences to offer regulated services such as lending, they lack the scale and deep funding pools of the biggest banks.',\n",
       " '',\n",
       " 'But if financial technology firms, or fintechs, can match their success in grabbing a chunk of digital payments from banks - and boosting their valuations in the process - lenders may have to respond, analysts say.',\n",
       " '',\n",
       " \"Stripe, for example, the payments platform behind many sites with clients including Amazon and Alphabet's (GOOGL.O) Google, was valued at $95 billion in March.\",\n",
       " '',\n",
       " 'Accenture estimated in 2019 that new entrants to the payments market had amassed 8% of revenues globally - and that share has risen over the past year as the pandemic boosted digital payments and hit traditional payments, Alan McIntyre, senior banking industry director at Accenture, said.',\n",
       " '',\n",
       " 'Now the focus is turning to lending, as well as complete off-the-shelf digital lenders with a variety of products businesses can pick and choose to embed in their processes.',\n",
       " '',\n",
       " '\"The vast majority of consumer centric companies will be able to launch financial products that will allow them to significantly improve their customer experience,\" said Luca Bocchio, partner at venture capital firm Accel.',\n",
       " '',\n",
       " '\"That is why we feel excited about this space.\"',\n",
       " '',\n",
       " 'So far this year, investors have poured $4.25 billion into embedded finance startups, almost three times the amount in 2020, data provided to Reuters by PitchBook shows.',\n",
       " '',\n",
       " 'Leading the way is Swedish buy now pay later (BNPL) firm Klarna which raised $1.9 billion.',\n",
       " '',\n",
       " 'DriveWealth, which sells technology allowing companies to offer fractional share trading, attracted $459 million while investors put $229 million into Solarisbank, a licensed German digital bank which offers an array of banking services software.',\n",
       " '',\n",
       " 'Shares in Affirm (AFRM.O), meanwhile, surged last month when it teamed up with Amazon to offer BNPL products while rival U.S. fintech Square (SQ.N) said last month it was buying Australian BNPL firm Afterpay (APT.AX) for $29 billion.',\n",
       " '',\n",
       " \"Square is now worth $113 billion, more than Europe's most valuable bank, HSBC (HSBA.L), on $105 billion.\",\n",
       " '',\n",
       " '\"Big banks and insurers will lose out if they don\\'t act quickly and work out where to play in this market,\" said Simon Torrance, founder of Embedded Finance & Super App Strategies.',\n",
       " '',\n",
       " 'YOU NEED A LOAN!',\n",
       " '',\n",
       " 'Several other retailers have announced plans this year to expand in financial services.',\n",
       " '',\n",
       " 'Walmart launched a fintech startup with investment firm Ribbit Capital in January to develop financial products for its employees and customers while IKEA took a minority stake in BNPL firm Jifiti last month.',\n",
       " '',\n",
       " \"Automakers such as Volkswagen's (VOWG_p.DE) Audi and Tata's (TAMO.NS) Jaguar Land Rover have experimented with embedding payment technology in their vehicles to take the hassle out of paying, besides Daimler's (DAIGn.DE) Mercedes.\",\n",
       " '',\n",
       " '\"Customers expect services, including financial services, to be directly integrated at the point of consumption, and to be convenient, digital, and immediately accessible,\" said Roland Folz, chief executive of Solarisbank which provides banking services to more than 50 companies including Samsung.',\n",
       " '',\n",
       " \"It's not just end consumers being targeted by embedded finance startups. Businesses themselves are being tapped on the shoulder as their digital data is crunched by fintechs such as Canada's Shopify (SHOP.TO).\",\n",
       " '',\n",
       " 'It provides software for merchants and its Shopify Capital division also offers cash advances, based on an analysis of more than 70 million data points across its platform.',\n",
       " '',\n",
       " '\"No merchant comes to us and says, I would like a loan. We go to merchants and say, we think it\\'s time for funding for you,\" said Kaz Nejatian, vice president, product, merchant services at Shopify.',\n",
       " '',\n",
       " '\"We don\\'t ask for business plans, we don\\'t ask for tax statements, we don\\'t ask for income statements, and we don\\'t ask for personal guarantees. Not because we are benevolent but because we think those are bad signals into the odds of success on the internet,\" he said.',\n",
       " '',\n",
       " \"A Shopify spokesperson said funding goes from $200 to $2 million. It has provided $2.3 billion in cumulative capital advances and is valued at $184 billion, well above Royal Bank of Canada (RY.TO), the country's biggest traditional lender.\",\n",
       " '',\n",
       " 'CONNECTED FUTURE?',\n",
       " '',\n",
       " \"Shopify's lending business is, however, still dwarfed by the big banks. JPMorgan Chase & Co (JPM.N), for example, had a consumer and community loan book worth $435 billion at the end of June.\",\n",
       " '',\n",
       " 'Major advances into finance by companies from other sectors could also be limited by regulators.',\n",
       " '',\n",
       " 'Officials from the Bank for International Settlements, a consortium of central banks and financial regulators, warned watchdogs last month to get to grips with the growing influence of technology firms in finance. read more',\n",
       " '',\n",
       " \"Bain's Harris said financial regulators were taking the approach that because they don't know how to regulate tech firms they are insisting there's a bank behind every transaction - but that did not mean banks would prevent fintechs encroaching.\",\n",
       " '',\n",
       " '\"They are right that the banks will always have a role but it\\'s not a very remunerative role and it involves very little ownership of the customer,\" he said.',\n",
       " '',\n",
       " 'Forrester analyst Jacob Morgan said banks had to decide where they want to be in the finance chain.',\n",
       " '',\n",
       " '\"Can they afford to fight for customer primacy, or do they actually see a more profitable route to market to become the rails that other people run on top of?\" he said. \"Some banks will choose to do both.\"',\n",
       " '',\n",
       " 'And some are already fighting back.',\n",
       " '',\n",
       " \"Citigroup (C.N) has teamed up with Google on bank accounts, Goldman Sachs (GS.N) is providing credit cards for Apple (AAPL.O) and JPMorgan is buying 75% of Volkswagen's payments business and plans to expand to other industries. read more 06:00:00\",\n",
       " '',\n",
       " '\"Connectivity between different systems is the future,\" said Shahrokh Moinian, head of wholesale payments, EMEA, at JPMorgan. \"We want to be the leader.\"']"
      ]
     },
     "execution_count": 10,
     "metadata": {},
     "output_type": "execute_result"
    }
   ],
   "source": [
    "# We collect the text\n",
    "rdd_reuters.collect()"
   ]
  },
  {
   "cell_type": "code",
   "execution_count": 11,
   "id": "1e7d3aed-2f2b-4dc0-91c6-03f598de8c1a",
   "metadata": {
    "tags": []
   },
   "outputs": [
    {
     "data": {
      "text/plain": [
       "[('', 43),\n",
       " ('the', 41),\n",
       " ('to', 41),\n",
       " ('and', 34),\n",
       " ('of', 25),\n",
       " ('in', 18),\n",
       " ('for', 18),\n",
       " ('a', 16),\n",
       " ('is', 14),\n",
       " ('are', 12),\n",
       " ('financial', 12),\n",
       " ('that', 12),\n",
       " ('banks', 11),\n",
       " ('said', 10),\n",
       " ('be', 10),\n",
       " ('their', 10),\n",
       " ('at', 9),\n",
       " ('from', 9),\n",
       " ('they', 9),\n",
       " ('finance', 8),\n",
       " ('-', 8),\n",
       " ('with', 8),\n",
       " ('as', 7),\n",
       " ('we', 7),\n",
       " ('will', 7),\n",
       " ('on', 7),\n",
       " ('companies', 6),\n",
       " ('have', 6),\n",
       " ('more', 6),\n",
       " ('services', 6),\n",
       " ('data', 6),\n",
       " ('by', 6),\n",
       " (\"don't\", 6),\n",
       " ('out', 5),\n",
       " ('embedded', 5),\n",
       " ('this', 5),\n",
       " ('Amazon', 5),\n",
       " ('can', 5),\n",
       " ('offer', 5),\n",
       " ('customers', 5),\n",
       " ('said.', 5),\n",
       " ('digital', 5),\n",
       " ('payments', 5),\n",
       " ('firm', 5),\n",
       " ('traditional', 4),\n",
       " ('banking', 4),\n",
       " ('but', 4),\n",
       " ('he', 4),\n",
       " ('technology', 4),\n",
       " ('into', 4),\n",
       " ('last', 4),\n",
       " ('other', 4),\n",
       " ('ask', 4),\n",
       " ('billion', 4),\n",
       " ('products', 4),\n",
       " ('which', 4),\n",
       " ('means', 3),\n",
       " ('now', 3),\n",
       " ('pay', 3),\n",
       " ('lenders', 3),\n",
       " ('end', 3),\n",
       " ('an', 3),\n",
       " ('consumer', 3),\n",
       " ('Capital', 3),\n",
       " ('go', 3),\n",
       " ('bank', 3),\n",
       " ('month', 3),\n",
       " ('BNPL', 3),\n",
       " ('than', 3),\n",
       " ('business', 3),\n",
       " ('Walmart', 3),\n",
       " ('software', 3),\n",
       " ('get', 3),\n",
       " ('behind', 3),\n",
       " ('investors', 3),\n",
       " ('up', 3),\n",
       " ('about', 3),\n",
       " ('over', 3),\n",
       " ('such', 3),\n",
       " ('funding', 3),\n",
       " ('including', 3),\n",
       " ('had', 3),\n",
       " ('has', 3),\n",
       " ('billion.', 3),\n",
       " ('million', 3),\n",
       " ('while', 3),\n",
       " ('it', 3),\n",
       " ('its', 3),\n",
       " ('not', 3),\n",
       " ('Shopify', 3),\n",
       " ('because', 3),\n",
       " ('these', 2),\n",
       " ('just', 2),\n",
       " ('right', 2),\n",
       " ('when', 2),\n",
       " ('risk', 2),\n",
       " ('further', 2),\n",
       " ('away', 2),\n",
       " ('And', 2),\n",
       " ('them', 2),\n",
       " ('new', 2),\n",
       " (\"It's\", 2),\n",
       " ('\"That', 2),\n",
       " ('why', 2),\n",
       " ('know', 2),\n",
       " ('YOU', 2),\n",
       " ('biggest', 2),\n",
       " ('banks.', 2),\n",
       " ('success', 2),\n",
       " ('example,', 2),\n",
       " ('was', 2),\n",
       " ('valued', 2),\n",
       " ('share', 2),\n",
       " ('year', 2),\n",
       " ('payments,', 2),\n",
       " ('customer', 2),\n",
       " ('offers', 2),\n",
       " ('fintech', 2),\n",
       " ('buying', 2),\n",
       " ('worth', 2),\n",
       " ('billion,', 2),\n",
       " ('where', 2),\n",
       " ('expand', 2),\n",
       " (\"Volkswagen's\", 2),\n",
       " ('provides', 2),\n",
       " ('It', 2),\n",
       " ('merchants', 2),\n",
       " ('merchant', 2),\n",
       " ('would', 2),\n",
       " ('think', 2),\n",
       " ('statements,', 2),\n",
       " ('advances', 2),\n",
       " ('JPMorgan', 2),\n",
       " ('read', 2),\n",
       " ('very', 2),\n",
       " ('do', 2),\n",
       " ('Mercedes', 2),\n",
       " ('IKEA', 2),\n",
       " ('tech', 2),\n",
       " ('credit', 2),\n",
       " ('For', 2),\n",
       " ('still', 2),\n",
       " ('most', 2),\n",
       " ('analysts', 2),\n",
       " ('chain.', 2),\n",
       " ('could', 2),\n",
       " ('services.', 2),\n",
       " ('deep', 2),\n",
       " ('partner', 2),\n",
       " ('so', 2),\n",
       " ('many', 2),\n",
       " ('some', 2),\n",
       " ('lending,', 2),\n",
       " ('if', 2),\n",
       " ('or', 2),\n",
       " ('market', 2),\n",
       " ('well', 2),\n",
       " ('choose', 2),\n",
       " ('capital', 2),\n",
       " ('provided', 2),\n",
       " ('teamed', 2),\n",
       " ('Square', 2),\n",
       " ('&', 2),\n",
       " ('A', 2),\n",
       " ('plans', 2),\n",
       " ('services,', 2),\n",
       " ('being', 2),\n",
       " ('fintechs', 2),\n",
       " ('also', 2),\n",
       " (\"it's\", 2),\n",
       " ('\"We', 2),\n",
       " ('Bank', 2),\n",
       " ('firms', 2),\n",
       " ('role', 2),\n",
       " ('want', 2),\n",
       " ('LONDON,', 1),\n",
       " ('Sept', 1),\n",
       " ('17', 1),\n",
       " ('Anyone', 1),\n",
       " ('banker', 1),\n",
       " ('days,', 1),\n",
       " ('code.', 1),\n",
       " ('Global', 1),\n",
       " ('(AMZN.O)', 1),\n",
       " ('(WMT.N)', 1),\n",
       " ('cutting', 1),\n",
       " ('middleman', 1),\n",
       " ('plugging', 1),\n",
       " ('startups', 1),\n",
       " ('everything', 1),\n",
       " ('insurance.', 1),\n",
       " ('established', 1),\n",
       " ('signs', 1),\n",
       " ('fancy', 1),\n",
       " ('term', 1),\n",
       " ('let', 1),\n",
       " ('check', 1),\n",
       " ('sure,', 1),\n",
       " ('transactions', 1),\n",
       " ('say', 1)]"
      ]
     },
     "execution_count": 11,
     "metadata": {},
     "output_type": "execute_result"
    }
   ],
   "source": [
    "# Word frequency\n",
    "rdd_reuters = sc.textFile(\"./data/reuters.txt\")\n",
    "rdd_reuters.flatMap(lambda line: line.split(\" \")) \\\n",
    "    .map(lambda word: (word, 1)) \\\n",
    "    .reduceByKey(lambda a, b: a + b) \\\n",
    "    .map(lambda x: (x[1], x[0])) \\\n",
    "    .sortByKey(ascending = False) \\\n",
    "    .map(lambda x: (x[1], x[0])) \\\n",
    "    .take(200)"
   ]
  },
  {
   "cell_type": "code",
   "execution_count": 12,
   "id": "ce5bb6ea-12dd-41c7-a247-1d2b092fe527",
   "metadata": {
    "tags": []
   },
   "outputs": [
    {
     "name": "stdout",
     "output_type": "stream",
     "text": [
      "['Banks', 'beware', ',', 'Amazon', 'and', 'Walmart', 'are', 'cracking', 'the', 'code', 'for', 'finance', 'LONDON', ',', 'Sept', '17', '(', 'Reuters', ')', '-', 'Anyone', 'can', 'be', 'a', 'banker', 'these', 'days', ',', 'you', 'just', 'need', 'the', 'right', 'code', '.', 'Global', 'brands', 'from', 'Mercedes', 'and', 'Amazon', '(', 'AMZN.O', ')', 'to', 'IKEA', 'and', 'Walmart', '(', 'WMT.N', ')', 'are', 'cutting', 'out', 'the', 'traditional', 'financial', 'middleman', 'and', 'plugging', 'in', 'software', 'from', 'tech', 'startups', 'to', 'offer', 'customers', 'everything', 'from', 'banking', 'and', 'credit', 'to', 'insurance', '.', 'For', 'established', 'financial', 'institutions', ',', 'the', 'warning', 'signs', 'are', 'flashing', '.', 'So-called', 'embedded', 'finance', '-', 'a', 'fancy', 'term', 'for', 'companies', 'integrating', 'software', 'to', 'offer', 'financial', 'services', '-', 'means', 'Amazon', 'can', 'let', 'customers', '``', 'buy', 'now', 'pay', 'later', \"''\", 'when', 'they', 'check', 'out', 'and', 'Mercedes', 'drivers', 'can', 'get', 'their', 'cars', 'to', 'pay', 'for', 'their', 'fuel', '.', 'To', 'be', 'sure', ',', 'banks', 'are', 'still', 'behind', 'most', 'of', 'the', 'transactions', 'but', 'investors', 'and', 'analysts', 'say', 'the', 'risk', 'for', 'traditional', 'lenders', 'is', 'that', 'they', 'will', 'get', 'pushed', 'further', 'away', 'from', 'the', 'front', 'end', 'of', 'the', 'finance', 'chain', '.', 'And', 'that', 'means', 'they', \"'ll\", 'be', 'further', 'away', 'from', 'the', 'mountains', 'of', 'data', 'others', 'are', 'hoovering', 'up', 'about', 'the', 'preferences', 'and', 'behaviours', 'of', 'their', 'customers', '-', 'data', 'that', 'could', 'be', 'crucial', 'in', 'giving', 'them', 'an', 'edge', 'over', 'banks', 'in', 'financial', 'services', '.', '``', 'Embedded', 'financial', 'services', 'takes', 'the', 'cross-sell', 'concept', 'to', 'new', 'heights', '.', 'It', \"'s\", 'predicated', 'on', 'a', 'deep', 'software-based', 'ongoing', 'data', 'relationship', 'with', 'the', 'consumer', 'and', 'business', ',', \"''\", 'said', 'Matt', 'Harris', ',', 'a', 'partner', 'at', 'investor', 'Bain', 'Capital', 'Ventures', '.', '``', 'That', 'is', 'why', 'this', 'revolution', 'is', 'so', 'important', ',', \"''\", 'he', 'said', '.', '``', 'It', 'means', 'that', 'all', 'the', 'good', 'risk', 'is', 'going', 'to', 'go', 'to', 'these', 'embedded', 'companies', 'that', 'know', 'so', 'much', 'about', 'their', 'customers', 'and', 'what', 'is', 'left', 'over', 'will', 'go', 'to', 'banks', 'and', 'insurance', 'companies', '.', \"''\", 'WHERE', 'DO', 'YOU', 'WANT', 'TO', 'PLAY', '?', 'For', 'now', ',', 'many', 'areas', 'of', 'embedded', 'finance', 'are', 'barely', 'denting', 'the', 'dominance', 'of', 'banks', 'and', 'even', 'though', 'some', 'upstarts', 'have', 'licences', 'to', 'offer', 'regulated', 'services', 'such', 'as', 'lending', ',', 'they', 'lack', 'the', 'scale', 'and', 'deep', 'funding', 'pools', 'of', 'the', 'biggest', 'banks', '.', 'But', 'if', 'financial', 'technology', 'firms', ',', 'or', 'fintechs', ',', 'can', 'match', 'their', 'success', 'in', 'grabbing', 'a', 'chunk', 'of', 'digital', 'payments', 'from', 'banks', '-', 'and', 'boosting', 'their', 'valuations', 'in', 'the', 'process', '-', 'lenders', 'may', 'have', 'to', 'respond', ',', 'analysts', 'say', '.', 'Stripe', ',', 'for', 'example', ',', 'the', 'payments', 'platform', 'behind', 'many', 'sites', 'with', 'clients', 'including', 'Amazon', 'and', 'Alphabet', \"'s\", '(', 'GOOGL.O', ')', 'Google', ',', 'was', 'valued', 'at', '$', '95', 'billion', 'in', 'March', '.', 'Accenture', 'estimated', 'in', '2019', 'that', 'new', 'entrants', 'to', 'the', 'payments', 'market', 'had', 'amassed', '8', '%', 'of', 'revenues', 'globally', '-', 'and', 'that', 'share', 'has', 'risen', 'over', 'the', 'past', 'year', 'as', 'the', 'pandemic', 'boosted', 'digital', 'payments', 'and', 'hit', 'traditional', 'payments', ',', 'Alan', 'McIntyre', ',', 'senior', 'banking', 'industry', 'director', 'at', 'Accenture', ',', 'said', '.', 'Now', 'the', 'focus', 'is', 'turning', 'to', 'lending', ',', 'as', 'well', 'as', 'complete', 'off-the-shelf', 'digital', 'lenders', 'with', 'a', 'variety', 'of', 'products', 'businesses', 'can', 'pick', 'and', 'choose', 'to', 'embed', 'in', 'their', 'processes', '.', '``', 'The', 'vast', 'majority', 'of', 'consumer', 'centric', 'companies', 'will', 'be', 'able', 'to', 'launch', 'financial', 'products', 'that', 'will', 'allow', 'them', 'to', 'significantly', 'improve', 'their', 'customer', 'experience', ',', \"''\", 'said', 'Luca', 'Bocchio', ',', 'partner', 'at', 'venture', 'capital', 'firm', 'Accel', '.', '``', 'That', 'is', 'why', 'we', 'feel', 'excited', 'about', 'this', 'space', '.', \"''\", 'So', 'far', 'this', 'year', ',', 'investors', 'have', 'poured', '$', '4.25', 'billion', 'into', 'embedded', 'finance', 'startups', ',', 'almost', 'three', 'times', 'the', 'amount', 'in', '2020', ',', 'data', 'provided', 'to', 'Reuters', 'by', 'PitchBook', 'shows', '.', 'Leading', 'the', 'way', 'is', 'Swedish', 'buy', 'now', 'pay', 'later', '(', 'BNPL', ')', 'firm', 'Klarna', 'which', 'raised', '$', '1.9', 'billion', '.', 'DriveWealth', ',', 'which', 'sells', 'technology', 'allowing', 'companies', 'to', 'offer', 'fractional', 'share', 'trading', ',', 'attracted', '$', '459', 'million', 'while', 'investors', 'put', '$', '229', 'million', 'into', 'Solarisbank', ',', 'a', 'licensed', 'German', 'digital', 'bank', 'which', 'offers', 'an', 'array', 'of', 'banking', 'services', 'software', '.', 'Shares', 'in', 'Affirm', '(', 'AFRM.O', ')', ',', 'meanwhile', ',', 'surged', 'last', 'month', 'when', 'it', 'teamed', 'up', 'with', 'Amazon', 'to', 'offer', 'BNPL', 'products', 'while', 'rival', 'U.S.', 'fintech', 'Square', '(', 'SQ.N', ')', 'said', 'last', 'month', 'it', 'was', 'buying', 'Australian', 'BNPL', 'firm', 'Afterpay', '(', 'APT.AX', ')', 'for', '$', '29', 'billion', '.', 'Square', 'is', 'now', 'worth', '$', '113', 'billion', ',', 'more', 'than', 'Europe', \"'s\", 'most', 'valuable', 'bank', ',', 'HSBC', '(', 'HSBA.L', ')', ',', 'on', '$', '105', 'billion', '.', '``', 'Big', 'banks', 'and', 'insurers', 'will', 'lose', 'out', 'if', 'they', 'do', \"n't\", 'act', 'quickly', 'and', 'work', 'out', 'where', 'to', 'play', 'in', 'this', 'market', ',', \"''\", 'said', 'Simon', 'Torrance', ',', 'founder', 'of', 'Embedded', 'Finance', '&', 'Super', 'App', 'Strategies', '.', 'YOU', 'NEED', 'A', 'LOAN', '!', 'Several', 'other', 'retailers', 'have', 'announced', 'plans', 'this', 'year', 'to', 'expand', 'in', 'financial', 'services', '.', 'Walmart', 'launched', 'a', 'fintech', 'startup', 'with', 'investment', 'firm', 'Ribbit', 'Capital', 'in', 'January', 'to', 'develop', 'financial', 'products', 'for', 'its', 'employees', 'and', 'customers', 'while', 'IKEA', 'took', 'a', 'minority', 'stake', 'in', 'BNPL', 'firm', 'Jifiti', 'last', 'month', '.', 'Automakers', 'such', 'as', 'Volkswagen', \"'s\", '(', 'VOWG_p.DE', ')', 'Audi', 'and', 'Tata', \"'s\", '(', 'TAMO.NS', ')', 'Jaguar', 'Land', 'Rover', 'have', 'experimented', 'with', 'embedding', 'payment', 'technology', 'in', 'their', 'vehicles', 'to', 'take', 'the', 'hassle', 'out', 'of', 'paying', ',', 'besides', 'Daimler', \"'s\", '(', 'DAIGn.DE', ')', 'Mercedes', '.', '``', 'Customers', 'expect', 'services', ',', 'including', 'financial', 'services', ',', 'to', 'be', 'directly', 'integrated', 'at', 'the', 'point', 'of', 'consumption', ',', 'and', 'to', 'be', 'convenient', ',', 'digital', ',', 'and', 'immediately', 'accessible', ',', \"''\", 'said', 'Roland', 'Folz', ',', 'chief', 'executive', 'of', 'Solarisbank', 'which', 'provides', 'banking', 'services', 'to', 'more', 'than', '50', 'companies', 'including', 'Samsung', '.', 'It', \"'s\", 'not', 'just', 'end', 'consumers', 'being', 'targeted', 'by', 'embedded', 'finance', 'startups', '.', 'Businesses', 'themselves', 'are', 'being', 'tapped', 'on', 'the', 'shoulder', 'as', 'their', 'digital', 'data', 'is', 'crunched', 'by', 'fintechs', 'such', 'as', 'Canada', \"'s\", 'Shopify', '(', 'SHOP.TO', ')', '.', 'It', 'provides', 'software', 'for', 'merchants', 'and', 'its', 'Shopify', 'Capital', 'division', 'also', 'offers', 'cash', 'advances', ',', 'based', 'on', 'an', 'analysis', 'of', 'more', 'than', '70', 'million', 'data', 'points', 'across', 'its', 'platform', '.', '``', 'No', 'merchant', 'comes', 'to', 'us', 'and', 'says', ',', 'I', 'would', 'like', 'a', 'loan', '.', 'We', 'go', 'to', 'merchants', 'and', 'say', ',', 'we', 'think', 'it', \"'s\", 'time', 'for', 'funding', 'for', 'you', ',', \"''\", 'said', 'Kaz', 'Nejatian', ',', 'vice', 'president', ',', 'product', ',', 'merchant', 'services', 'at', 'Shopify', '.', '``', 'We', 'do', \"n't\", 'ask', 'for', 'business', 'plans', ',', 'we', 'do', \"n't\", 'ask', 'for', 'tax', 'statements', ',', 'we', 'do', \"n't\", 'ask', 'for', 'income', 'statements', ',', 'and', 'we', 'do', \"n't\", 'ask', 'for', 'personal', 'guarantees', '.', 'Not', 'because', 'we', 'are', 'benevolent', 'but', 'because', 'we', 'think', 'those', 'are', 'bad', 'signals', 'into', 'the', 'odds', 'of', 'success', 'on', 'the', 'internet', ',', \"''\", 'he', 'said', '.', 'A', 'Shopify', 'spokesperson', 'said', 'funding', 'goes', 'from', '$', '200', 'to', '$', '2', 'million', '.', 'It', 'has', 'provided', '$', '2.3', 'billion', 'in', 'cumulative', 'capital', 'advances', 'and', 'is', 'valued', 'at', '$', '184', 'billion', ',', 'well', 'above', 'Royal', 'Bank', 'of', 'Canada', '(', 'RY.TO', ')', ',', 'the', 'country', \"'s\", 'biggest', 'traditional', 'lender', '.', 'CONNECTED', 'FUTURE', '?', 'Shopify', \"'s\", 'lending', 'business', 'is', ',', 'however', ',', 'still', 'dwarfed', 'by', 'the', 'big', 'banks', '.', 'JPMorgan', 'Chase', '&', 'Co', '(', 'JPM.N', ')', ',', 'for', 'example', ',', 'had', 'a', 'consumer', 'and', 'community', 'loan', 'book', 'worth', '$', '435', 'billion', 'at', 'the', 'end', 'of', 'June', '.', 'Major', 'advances', 'into', 'finance', 'by', 'companies', 'from', 'other', 'sectors', 'could', 'also', 'be', 'limited', 'by', 'regulators', '.', 'Officials', 'from', 'the', 'Bank', 'for', 'International', 'Settlements', ',', 'a', 'consortium', 'of', 'central', 'banks', 'and', 'financial', 'regulators', ',', 'warned', 'watchdogs', 'last', 'month', 'to', 'get', 'to', 'grips', 'with', 'the', 'growing', 'influence', 'of', 'technology', 'firms', 'in', 'finance', '.', 'read', 'more', 'Bain', \"'s\", 'Harris', 'said', 'financial', 'regulators', 'were', 'taking', 'the', 'approach', 'that', 'because', 'they', 'do', \"n't\", 'know', 'how', 'to', 'regulate', 'tech', 'firms', 'they', 'are', 'insisting', 'there', \"'s\", 'a', 'bank', 'behind', 'every', 'transaction', '-', 'but', 'that', 'did', 'not', 'mean', 'banks', 'would', 'prevent', 'fintechs', 'encroaching', '.', '``', 'They', 'are', 'right', 'that', 'the', 'banks', 'will', 'always', 'have', 'a', 'role', 'but', 'it', \"'s\", 'not', 'a', 'very', 'remunerative', 'role', 'and', 'it', 'involves', 'very', 'little', 'ownership', 'of', 'the', 'customer', ',', \"''\", 'he', 'said', '.', 'Forrester', 'analyst', 'Jacob', 'Morgan', 'said', 'banks', 'had', 'to', 'decide', 'where', 'they', 'want', 'to', 'be', 'in', 'the', 'finance', 'chain', '.', '``', 'Can', 'they', 'afford', 'to', 'fight', 'for', 'customer', 'primacy', ',', 'or', 'do', 'they', 'actually', 'see', 'a', 'more', 'profitable', 'route', 'to', 'market', 'to', 'become', 'the', 'rails', 'that', 'other', 'people', 'run', 'on', 'top', 'of', '?', \"''\", 'he', 'said', '.', '``', 'Some', 'banks', 'will', 'choose', 'to', 'do', 'both', '.', \"''\", 'And', 'some', 'are', 'already', 'fighting', 'back', '.', 'Citigroup', '(', 'C.N', ')', 'has', 'teamed', 'up', 'with', 'Google', 'on', 'bank', 'accounts', ',', 'Goldman', 'Sachs', '(', 'GS.N', ')', 'is', 'providing', 'credit', 'cards', 'for', 'Apple', '(', 'AAPL.O', ')', 'and', 'JPMorgan', 'is', 'buying', '75', '%', 'of', 'Volkswagen', \"'s\", 'payments', 'business', 'and', 'plans', 'to', 'expand', 'to', 'other', 'industries', '.', 'read', 'more', '06:00:00', '``', 'Connectivity', 'between', 'different', 'systems', 'is', 'the', 'future', ',', \"''\", 'said', 'Shahrokh', 'Moinian', ',', 'head', 'of', 'wholesale', 'payments', ',', 'EMEA', ',', 'at', 'JPMorgan', '.', '``', 'We', 'want', 'to', 'be', 'the', 'leader', '.', \"''\"]\n"
     ]
    }
   ],
   "source": [
    "# Txt Collect Array\n",
    "rdd_reuters = sc.textFile(\"./data/reuters.txt\").collect()\n",
    "tokens = []\n",
    "for i in rdd_reuters : \n",
    "    tokens += nltk.word_tokenize(i)\n",
    "print(tokens)"
   ]
  },
  {
   "cell_type": "code",
   "execution_count": 13,
   "id": "f1310602-ac42-4591-827e-454e46af7592",
   "metadata": {
    "tags": []
   },
   "outputs": [
    {
     "name": "stdout",
     "output_type": "stream",
     "text": [
      "[('Banks', 'NNS'), ('beware', 'NN'), (',', ','), ('Amazon', 'NNP'), ('and', 'CC'), ('Walmart', 'NNP'), ('are', 'VBP'), ('cracking', 'VBG'), ('the', 'DT'), ('code', 'NN'), ('for', 'IN'), ('finance', 'NN'), ('LONDON', 'NNP'), (',', ','), ('Sept', 'NNP'), ('17', 'CD'), ('(', '('), ('Reuters', 'NNPS'), (')', ')'), ('-', ':'), ('Anyone', 'NN'), ('can', 'MD'), ('be', 'VB'), ('a', 'DT'), ('banker', 'NN'), ('these', 'DT'), ('days', 'NNS'), (',', ','), ('you', 'PRP'), ('just', 'RB'), ('need', 'VB'), ('the', 'DT'), ('right', 'JJ'), ('code', 'NN'), ('.', '.'), ('Global', 'NNP'), ('brands', 'VBZ'), ('from', 'IN'), ('Mercedes', 'NNP'), ('and', 'CC'), ('Amazon', 'NNP'), ('(', '('), ('AMZN.O', 'NNP'), (')', ')'), ('to', 'TO'), ('IKEA', 'NNP'), ('and', 'CC'), ('Walmart', 'NNP'), ('(', '('), ('WMT.N', 'NNP'), (')', ')'), ('are', 'VBP'), ('cutting', 'VBG'), ('out', 'RP'), ('the', 'DT'), ('traditional', 'JJ'), ('financial', 'JJ'), ('middleman', 'NN'), ('and', 'CC'), ('plugging', 'NN'), ('in', 'IN'), ('software', 'NN'), ('from', 'IN'), ('tech', 'NN'), ('startups', 'NNS'), ('to', 'TO'), ('offer', 'VB'), ('customers', 'NNS'), ('everything', 'NN'), ('from', 'IN'), ('banking', 'NN'), ('and', 'CC'), ('credit', 'NN'), ('to', 'TO'), ('insurance', 'NN'), ('.', '.'), ('For', 'IN'), ('established', 'VBN'), ('financial', 'JJ'), ('institutions', 'NNS'), (',', ','), ('the', 'DT'), ('warning', 'NN'), ('signs', 'NNS'), ('are', 'VBP'), ('flashing', 'VBG'), ('.', '.'), ('So-called', 'NNP'), ('embedded', 'VBD'), ('finance', 'NN'), ('-', ':'), ('a', 'DT'), ('fancy', 'JJ'), ('term', 'NN'), ('for', 'IN'), ('companies', 'NNS'), ('integrating', 'VBG'), ('software', 'NN'), ('to', 'TO'), ('offer', 'VB'), ('financial', 'JJ'), ('services', 'NNS'), ('-', ':'), ('means', 'VBZ'), ('Amazon', 'NNP'), ('can', 'MD'), ('let', 'VB'), ('customers', 'NNS'), ('``', '``'), ('buy', 'VB'), ('now', 'RB'), ('pay', 'VBP'), ('later', 'RB'), (\"''\", \"''\"), ('when', 'WRB'), ('they', 'PRP'), ('check', 'VBP'), ('out', 'RP'), ('and', 'CC'), ('Mercedes', 'NNP'), ('drivers', 'NNS'), ('can', 'MD'), ('get', 'VB'), ('their', 'PRP$'), ('cars', 'NNS'), ('to', 'TO'), ('pay', 'VB'), ('for', 'IN'), ('their', 'PRP$'), ('fuel', 'NN'), ('.', '.'), ('To', 'TO'), ('be', 'VB'), ('sure', 'JJ'), (',', ','), ('banks', 'NNS'), ('are', 'VBP'), ('still', 'RB'), ('behind', 'IN'), ('most', 'JJS'), ('of', 'IN'), ('the', 'DT'), ('transactions', 'NNS'), ('but', 'CC'), ('investors', 'NNS'), ('and', 'CC'), ('analysts', 'NNS'), ('say', 'VBP'), ('the', 'DT'), ('risk', 'NN'), ('for', 'IN'), ('traditional', 'JJ'), ('lenders', 'NNS'), ('is', 'VBZ'), ('that', 'IN'), ('they', 'PRP'), ('will', 'MD'), ('get', 'VB'), ('pushed', 'VBN'), ('further', 'RB'), ('away', 'RB'), ('from', 'IN'), ('the', 'DT'), ('front', 'JJ'), ('end', 'NN'), ('of', 'IN'), ('the', 'DT'), ('finance', 'NN'), ('chain', 'NN'), ('.', '.'), ('And', 'CC'), ('that', 'DT'), ('means', 'VBZ'), ('they', 'PRP'), (\"'ll\", 'MD'), ('be', 'VB'), ('further', 'RB'), ('away', 'RB'), ('from', 'IN'), ('the', 'DT'), ('mountains', 'NNS'), ('of', 'IN'), ('data', 'NNS'), ('others', 'NNS'), ('are', 'VBP'), ('hoovering', 'VBG'), ('up', 'RP'), ('about', 'IN'), ('the', 'DT'), ('preferences', 'NNS'), ('and', 'CC'), ('behaviours', 'NNS'), ('of', 'IN'), ('their', 'PRP$'), ('customers', 'NNS'), ('-', ':'), ('data', 'NNS'), ('that', 'WDT'), ('could', 'MD'), ('be', 'VB'), ('crucial', 'JJ'), ('in', 'IN'), ('giving', 'VBG'), ('them', 'PRP'), ('an', 'DT'), ('edge', 'NN'), ('over', 'IN'), ('banks', 'NNS'), ('in', 'IN'), ('financial', 'JJ'), ('services', 'NNS'), ('.', '.'), ('``', '``'), ('Embedded', 'VBD'), ('financial', 'JJ'), ('services', 'NNS'), ('takes', 'VBZ'), ('the', 'DT'), ('cross-sell', 'NN'), ('concept', 'NN'), ('to', 'TO'), ('new', 'JJ'), ('heights', 'NNS'), ('.', '.'), ('It', 'PRP'), (\"'s\", 'VBZ'), ('predicated', 'VBN'), ('on', 'IN'), ('a', 'DT'), ('deep', 'JJ'), ('software-based', 'JJ'), ('ongoing', 'JJ'), ('data', 'NNS'), ('relationship', 'NN'), ('with', 'IN'), ('the', 'DT'), ('consumer', 'NN'), ('and', 'CC'), ('business', 'NN'), (',', ','), (\"''\", \"''\"), ('said', 'VBD'), ('Matt', 'NNP'), ('Harris', 'NNP'), (',', ','), ('a', 'DT'), ('partner', 'NN'), ('at', 'IN'), ('investor', 'NN'), ('Bain', 'NNP'), ('Capital', 'NNP'), ('Ventures', 'NNP'), ('.', '.'), ('``', '``'), ('That', 'DT'), ('is', 'VBZ'), ('why', 'WRB'), ('this', 'DT'), ('revolution', 'NN'), ('is', 'VBZ'), ('so', 'RB'), ('important', 'JJ'), (',', ','), (\"''\", \"''\"), ('he', 'PRP'), ('said', 'VBD'), ('.', '.'), ('``', '``'), ('It', 'PRP'), ('means', 'VBZ'), ('that', 'IN'), ('all', 'PDT'), ('the', 'DT'), ('good', 'JJ'), ('risk', 'NN'), ('is', 'VBZ'), ('going', 'VBG'), ('to', 'TO'), ('go', 'VB'), ('to', 'TO'), ('these', 'DT'), ('embedded', 'VBN'), ('companies', 'NNS'), ('that', 'WDT'), ('know', 'VBP'), ('so', 'RB'), ('much', 'JJ'), ('about', 'IN'), ('their', 'PRP$'), ('customers', 'NNS'), ('and', 'CC'), ('what', 'WP'), ('is', 'VBZ'), ('left', 'VBN'), ('over', 'RP'), ('will', 'MD'), ('go', 'VB'), ('to', 'TO'), ('banks', 'NNS'), ('and', 'CC'), ('insurance', 'NN'), ('companies', 'NNS'), ('.', '.'), (\"''\", \"''\"), ('WHERE', 'WRB'), ('DO', 'NNP'), ('YOU', 'NNP'), ('WANT', 'NNP'), ('TO', 'NNP'), ('PLAY', 'NNP'), ('?', '.'), ('For', 'IN'), ('now', 'RB'), (',', ','), ('many', 'JJ'), ('areas', 'NNS'), ('of', 'IN'), ('embedded', 'VBN'), ('finance', 'NN'), ('are', 'VBP'), ('barely', 'RB'), ('denting', 'VBG'), ('the', 'DT'), ('dominance', 'NN'), ('of', 'IN'), ('banks', 'NNS'), ('and', 'CC'), ('even', 'RB'), ('though', 'IN'), ('some', 'DT'), ('upstarts', 'NNS'), ('have', 'VBP'), ('licences', 'NNS'), ('to', 'TO'), ('offer', 'VB'), ('regulated', 'JJ'), ('services', 'NNS'), ('such', 'JJ'), ('as', 'IN'), ('lending', 'NN'), (',', ','), ('they', 'PRP'), ('lack', 'VBP'), ('the', 'DT'), ('scale', 'NN'), ('and', 'CC'), ('deep', 'JJ'), ('funding', 'NN'), ('pools', 'NNS'), ('of', 'IN'), ('the', 'DT'), ('biggest', 'JJS'), ('banks', 'NNS'), ('.', '.'), ('But', 'CC'), ('if', 'IN'), ('financial', 'JJ'), ('technology', 'NN'), ('firms', 'NNS'), (',', ','), ('or', 'CC'), ('fintechs', 'NNS'), (',', ','), ('can', 'MD'), ('match', 'VB'), ('their', 'PRP$'), ('success', 'NN'), ('in', 'IN'), ('grabbing', 'VBG'), ('a', 'DT'), ('chunk', 'NN'), ('of', 'IN'), ('digital', 'JJ'), ('payments', 'NNS'), ('from', 'IN'), ('banks', 'NNS'), ('-', ':'), ('and', 'CC'), ('boosting', 'VBG'), ('their', 'PRP$'), ('valuations', 'NNS'), ('in', 'IN'), ('the', 'DT'), ('process', 'NN'), ('-', ':'), ('lenders', 'NNS'), ('may', 'MD'), ('have', 'VB'), ('to', 'TO'), ('respond', 'VB'), (',', ','), ('analysts', 'NNS'), ('say', 'VBP'), ('.', '.'), ('Stripe', 'NNP'), (',', ','), ('for', 'IN'), ('example', 'NN'), (',', ','), ('the', 'DT'), ('payments', 'NNS'), ('platform', 'VBP'), ('behind', 'IN'), ('many', 'JJ'), ('sites', 'NNS'), ('with', 'IN'), ('clients', 'NNS'), ('including', 'VBG'), ('Amazon', 'NNP'), ('and', 'CC'), ('Alphabet', 'NNP'), (\"'s\", 'POS'), ('(', '('), ('GOOGL.O', 'NNP'), (')', ')'), ('Google', 'NNP'), (',', ','), ('was', 'VBD'), ('valued', 'VBN'), ('at', 'IN'), ('$', '$'), ('95', 'CD'), ('billion', 'CD'), ('in', 'IN'), ('March', 'NNP'), ('.', '.'), ('Accenture', 'NNP'), ('estimated', 'VBN'), ('in', 'IN'), ('2019', 'CD'), ('that', 'IN'), ('new', 'JJ'), ('entrants', 'NNS'), ('to', 'TO'), ('the', 'DT'), ('payments', 'NNS'), ('market', 'NN'), ('had', 'VBD'), ('amassed', 'VBN'), ('8', 'CD'), ('%', 'NN'), ('of', 'IN'), ('revenues', 'NNS'), ('globally', 'RB'), ('-', ':'), ('and', 'CC'), ('that', 'DT'), ('share', 'NN'), ('has', 'VBZ'), ('risen', 'VBN'), ('over', 'IN'), ('the', 'DT'), ('past', 'JJ'), ('year', 'NN'), ('as', 'IN'), ('the', 'DT'), ('pandemic', 'JJ'), ('boosted', 'VBD'), ('digital', 'JJ'), ('payments', 'NNS'), ('and', 'CC'), ('hit', 'VBD'), ('traditional', 'JJ'), ('payments', 'NNS'), (',', ','), ('Alan', 'NNP'), ('McIntyre', 'NNP'), (',', ','), ('senior', 'JJ'), ('banking', 'NN'), ('industry', 'NN'), ('director', 'NN'), ('at', 'IN'), ('Accenture', 'NNP'), (',', ','), ('said', 'VBD'), ('.', '.'), ('Now', 'RB'), ('the', 'DT'), ('focus', 'NN'), ('is', 'VBZ'), ('turning', 'VBG'), ('to', 'TO'), ('lending', 'NN'), (',', ','), ('as', 'RB'), ('well', 'RB'), ('as', 'IN'), ('complete', 'JJ'), ('off-the-shelf', 'JJ'), ('digital', 'JJ'), ('lenders', 'NNS'), ('with', 'IN'), ('a', 'DT'), ('variety', 'NN'), ('of', 'IN'), ('products', 'NNS'), ('businesses', 'NNS'), ('can', 'MD'), ('pick', 'VB'), ('and', 'CC'), ('choose', 'VB'), ('to', 'TO'), ('embed', 'VB'), ('in', 'IN'), ('their', 'PRP$'), ('processes', 'NNS'), ('.', '.'), ('``', '``'), ('The', 'DT'), ('vast', 'JJ'), ('majority', 'NN'), ('of', 'IN'), ('consumer', 'NN'), ('centric', 'NN'), ('companies', 'NNS'), ('will', 'MD'), ('be', 'VB'), ('able', 'JJ'), ('to', 'TO'), ('launch', 'VB'), ('financial', 'JJ'), ('products', 'NNS'), ('that', 'WDT'), ('will', 'MD'), ('allow', 'VB'), ('them', 'PRP'), ('to', 'TO'), ('significantly', 'RB'), ('improve', 'VB'), ('their', 'PRP$'), ('customer', 'NN'), ('experience', 'NN'), (',', ','), (\"''\", \"''\"), ('said', 'VBD'), ('Luca', 'NNP'), ('Bocchio', 'NNP'), (',', ','), ('partner', 'NN'), ('at', 'IN'), ('venture', 'NN'), ('capital', 'NN'), ('firm', 'NN'), ('Accel', 'NNP'), ('.', '.'), ('``', '``'), ('That', 'DT'), ('is', 'VBZ'), ('why', 'WRB'), ('we', 'PRP'), ('feel', 'VBP'), ('excited', 'VBN'), ('about', 'IN'), ('this', 'DT'), ('space', 'NN'), ('.', '.'), (\"''\", \"''\"), ('So', 'RB'), ('far', 'RB'), ('this', 'DT'), ('year', 'NN'), (',', ','), ('investors', 'NNS'), ('have', 'VBP'), ('poured', 'VBN'), ('$', '$'), ('4.25', 'CD'), ('billion', 'CD'), ('into', 'IN'), ('embedded', 'VBN'), ('finance', 'NN'), ('startups', 'NN'), (',', ','), ('almost', 'RB'), ('three', 'CD'), ('times', 'NNS'), ('the', 'DT'), ('amount', 'NN'), ('in', 'IN'), ('2020', 'CD'), (',', ','), ('data', 'NNS'), ('provided', 'VBD'), ('to', 'TO'), ('Reuters', 'NNS'), ('by', 'IN'), ('PitchBook', 'NNP'), ('shows', 'NNS'), ('.', '.'), ('Leading', 'VBG'), ('the', 'DT'), ('way', 'NN'), ('is', 'VBZ'), ('Swedish', 'JJ'), ('buy', 'NN'), ('now', 'RB'), ('pay', 'VBP'), ('later', 'RB'), ('(', '('), ('BNPL', 'NNP'), (')', ')'), ('firm', 'NN'), ('Klarna', 'NNP'), ('which', 'WDT'), ('raised', 'VBD'), ('$', '$'), ('1.9', 'CD'), ('billion', 'CD'), ('.', '.'), ('DriveWealth', 'NNP'), (',', ','), ('which', 'WDT'), ('sells', 'VBZ'), ('technology', 'NN'), ('allowing', 'VBG'), ('companies', 'NNS'), ('to', 'TO'), ('offer', 'VB'), ('fractional', 'JJ'), ('share', 'NN'), ('trading', 'NN'), (',', ','), ('attracted', 'VBD'), ('$', '$'), ('459', 'CD'), ('million', 'CD'), ('while', 'IN'), ('investors', 'NNS'), ('put', 'VBD'), ('$', '$'), ('229', 'CD'), ('million', 'CD'), ('into', 'IN'), ('Solarisbank', 'NNP'), (',', ','), ('a', 'DT'), ('licensed', 'JJ'), ('German', 'JJ'), ('digital', 'NN'), ('bank', 'NN'), ('which', 'WDT'), ('offers', 'VBZ'), ('an', 'DT'), ('array', 'NN'), ('of', 'IN'), ('banking', 'NN'), ('services', 'NNS'), ('software', 'NN'), ('.', '.'), ('Shares', 'VBZ'), ('in', 'IN'), ('Affirm', 'NNP'), ('(', '('), ('AFRM.O', 'NNP'), (')', ')'), (',', ','), ('meanwhile', 'RB'), (',', ','), ('surged', 'VBD'), ('last', 'JJ'), ('month', 'NN'), ('when', 'WRB'), ('it', 'PRP'), ('teamed', 'VBD'), ('up', 'RP'), ('with', 'IN'), ('Amazon', 'NNP'), ('to', 'TO'), ('offer', 'VB'), ('BNPL', 'NNP'), ('products', 'NNS'), ('while', 'IN'), ('rival', 'JJ'), ('U.S.', 'NNP'), ('fintech', 'NN'), ('Square', 'NNP'), ('(', '('), ('SQ.N', 'NNP'), (')', ')'), ('said', 'VBD'), ('last', 'JJ'), ('month', 'NN'), ('it', 'PRP'), ('was', 'VBD'), ('buying', 'VBG'), ('Australian', 'JJ'), ('BNPL', 'NNP'), ('firm', 'NN'), ('Afterpay', 'NNP'), ('(', '('), ('APT.AX', 'NNP'), (')', ')'), ('for', 'IN'), ('$', '$'), ('29', 'CD'), ('billion', 'CD'), ('.', '.'), ('Square', 'NNP'), ('is', 'VBZ'), ('now', 'RB'), ('worth', 'JJ'), ('$', '$'), ('113', 'CD'), ('billion', 'CD'), (',', ','), ('more', 'JJR'), ('than', 'IN'), ('Europe', 'NNP'), (\"'s\", 'POS'), ('most', 'RBS'), ('valuable', 'JJ'), ('bank', 'NN'), (',', ','), ('HSBC', 'NNP'), ('(', '('), ('HSBA.L', 'NNP'), (')', ')'), (',', ','), ('on', 'IN'), ('$', '$'), ('105', 'CD'), ('billion', 'CD'), ('.', '.'), ('``', '``'), ('Big', 'JJ'), ('banks', 'NNS'), ('and', 'CC'), ('insurers', 'NNS'), ('will', 'MD'), ('lose', 'VB'), ('out', 'RP'), ('if', 'IN'), ('they', 'PRP'), ('do', 'VBP'), (\"n't\", 'RB'), ('act', 'VB'), ('quickly', 'RB'), ('and', 'CC'), ('work', 'VB'), ('out', 'RB'), ('where', 'WRB'), ('to', 'TO'), ('play', 'VB'), ('in', 'IN'), ('this', 'DT'), ('market', 'NN'), (',', ','), (\"''\", \"''\"), ('said', 'VBD'), ('Simon', 'NNP'), ('Torrance', 'NNP'), (',', ','), ('founder', 'NN'), ('of', 'IN'), ('Embedded', 'NNP'), ('Finance', 'NNP'), ('&', 'CC'), ('Super', 'NNP'), ('App', 'NNP'), ('Strategies', 'NNP'), ('.', '.'), ('YOU', 'NNP'), ('NEED', 'VBP'), ('A', 'DT'), ('LOAN', 'NNP'), ('!', '.'), ('Several', 'NNP'), ('other', 'JJ'), ('retailers', 'NNS'), ('have', 'VBP'), ('announced', 'VBN'), ('plans', 'NNS'), ('this', 'DT'), ('year', 'NN'), ('to', 'TO'), ('expand', 'VB'), ('in', 'IN'), ('financial', 'JJ'), ('services', 'NNS'), ('.', '.'), ('Walmart', 'NNP'), ('launched', 'VBD'), ('a', 'DT'), ('fintech', 'JJ'), ('startup', 'NN'), ('with', 'IN'), ('investment', 'NN'), ('firm', 'NN'), ('Ribbit', 'NNP'), ('Capital', 'NNP'), ('in', 'IN'), ('January', 'NNP'), ('to', 'TO'), ('develop', 'VB'), ('financial', 'JJ'), ('products', 'NNS'), ('for', 'IN'), ('its', 'PRP$'), ('employees', 'NNS'), ('and', 'CC'), ('customers', 'NNS'), ('while', 'IN'), ('IKEA', 'NNP'), ('took', 'VBD'), ('a', 'DT'), ('minority', 'NN'), ('stake', 'NN'), ('in', 'IN'), ('BNPL', 'NNP'), ('firm', 'NN'), ('Jifiti', 'NNP'), ('last', 'JJ'), ('month', 'NN'), ('.', '.'), ('Automakers', 'NNS'), ('such', 'JJ'), ('as', 'IN'), ('Volkswagen', 'NN'), (\"'s\", 'POS'), ('(', '('), ('VOWG_p.DE', 'NNP'), (')', ')'), ('Audi', 'NNP'), ('and', 'CC'), ('Tata', 'NNP'), (\"'s\", 'POS'), ('(', '('), ('TAMO.NS', 'NNP'), (')', ')'), ('Jaguar', 'NNP'), ('Land', 'NNP'), ('Rover', 'NNP'), ('have', 'VBP'), ('experimented', 'VBN'), ('with', 'IN'), ('embedding', 'VBG'), ('payment', 'NN'), ('technology', 'NN'), ('in', 'IN'), ('their', 'PRP$'), ('vehicles', 'NNS'), ('to', 'TO'), ('take', 'VB'), ('the', 'DT'), ('hassle', 'NN'), ('out', 'IN'), ('of', 'IN'), ('paying', 'VBG'), (',', ','), ('besides', 'IN'), ('Daimler', 'NNP'), (\"'s\", 'POS'), ('(', '('), ('DAIGn.DE', 'NNP'), (')', ')'), ('Mercedes', 'NNP'), ('.', '.'), ('``', '``'), ('Customers', 'NNP'), ('expect', 'VBP'), ('services', 'NNS'), (',', ','), ('including', 'VBG'), ('financial', 'JJ'), ('services', 'NNS'), (',', ','), ('to', 'TO'), ('be', 'VB'), ('directly', 'RB'), ('integrated', 'VBN'), ('at', 'IN'), ('the', 'DT'), ('point', 'NN'), ('of', 'IN'), ('consumption', 'NN'), (',', ','), ('and', 'CC'), ('to', 'TO'), ('be', 'VB'), ('convenient', 'JJ'), (',', ','), ('digital', 'JJ'), (',', ','), ('and', 'CC'), ('immediately', 'RB'), ('accessible', 'JJ'), (',', ','), (\"''\", \"''\"), ('said', 'VBD'), ('Roland', 'NNP'), ('Folz', 'NNP'), (',', ','), ('chief', 'JJ'), ('executive', 'NN'), ('of', 'IN'), ('Solarisbank', 'NNP'), ('which', 'WDT'), ('provides', 'VBZ'), ('banking', 'NN'), ('services', 'NNS'), ('to', 'TO'), ('more', 'JJR'), ('than', 'IN'), ('50', 'CD'), ('companies', 'NNS'), ('including', 'VBG'), ('Samsung', 'NNP'), ('.', '.'), ('It', 'PRP'), (\"'s\", 'VBZ'), ('not', 'RB'), ('just', 'RB'), ('end', 'VB'), ('consumers', 'NNS'), ('being', 'VBG'), ('targeted', 'VBN'), ('by', 'IN'), ('embedded', 'JJ'), ('finance', 'NN'), ('startups', 'NNS'), ('.', '.'), ('Businesses', 'VBZ'), ('themselves', 'PRP'), ('are', 'VBP'), ('being', 'VBG'), ('tapped', 'VBN'), ('on', 'IN'), ('the', 'DT'), ('shoulder', 'NN'), ('as', 'IN'), ('their', 'PRP$'), ('digital', 'JJ'), ('data', 'NN'), ('is', 'VBZ'), ('crunched', 'VBN'), ('by', 'IN'), ('fintechs', 'NNS'), ('such', 'JJ'), ('as', 'IN'), ('Canada', 'NNP'), (\"'s\", 'POS'), ('Shopify', 'NNP'), ('(', '('), ('SHOP.TO', 'NNP'), (')', ')'), ('.', '.'), ('It', 'PRP'), ('provides', 'VBZ'), ('software', 'NN'), ('for', 'IN'), ('merchants', 'NNS'), ('and', 'CC'), ('its', 'PRP$'), ('Shopify', 'NNP'), ('Capital', 'NNP'), ('division', 'NN'), ('also', 'RB'), ('offers', 'VBZ'), ('cash', 'NN'), ('advances', 'NNS'), (',', ','), ('based', 'VBN'), ('on', 'IN'), ('an', 'DT'), ('analysis', 'NN'), ('of', 'IN'), ('more', 'JJR'), ('than', 'IN'), ('70', 'CD'), ('million', 'CD'), ('data', 'NN'), ('points', 'NNS'), ('across', 'IN'), ('its', 'PRP$'), ('platform', 'NN'), ('.', '.'), ('``', '``'), ('No', 'DT'), ('merchant', 'NN'), ('comes', 'VBZ'), ('to', 'TO'), ('us', 'PRP'), ('and', 'CC'), ('says', 'VBZ'), (',', ','), ('I', 'PRP'), ('would', 'MD'), ('like', 'VB'), ('a', 'DT'), ('loan', 'NN'), ('.', '.'), ('We', 'PRP'), ('go', 'VBP'), ('to', 'TO'), ('merchants', 'NNS'), ('and', 'CC'), ('say', 'VB'), (',', ','), ('we', 'PRP'), ('think', 'VBP'), ('it', 'PRP'), (\"'s\", 'VBZ'), ('time', 'NN'), ('for', 'IN'), ('funding', 'VBG'), ('for', 'IN'), ('you', 'PRP'), (',', ','), (\"''\", \"''\"), ('said', 'VBD'), ('Kaz', 'NNP'), ('Nejatian', 'NNP'), (',', ','), ('vice', 'NN'), ('president', 'NN'), (',', ','), ('product', 'NN'), (',', ','), ('merchant', 'NN'), ('services', 'NNS'), ('at', 'IN'), ('Shopify', 'NNP'), ('.', '.'), ('``', '``'), ('We', 'PRP'), ('do', 'VBP'), (\"n't\", 'RB'), ('ask', 'VB'), ('for', 'IN'), ('business', 'NN'), ('plans', 'NNS'), (',', ','), ('we', 'PRP'), ('do', 'VBP'), (\"n't\", 'RB'), ('ask', 'VB'), ('for', 'IN'), ('tax', 'NN'), ('statements', 'NNS'), (',', ','), ('we', 'PRP'), ('do', 'VBP'), (\"n't\", 'RB'), ('ask', 'VB'), ('for', 'IN'), ('income', 'NN'), ('statements', 'NNS'), (',', ','), ('and', 'CC'), ('we', 'PRP'), ('do', 'VBP'), (\"n't\", 'RB'), ('ask', 'VB'), ('for', 'IN'), ('personal', 'JJ'), ('guarantees', 'NNS'), ('.', '.'), ('Not', 'RB'), ('because', 'IN'), ('we', 'PRP'), ('are', 'VBP'), ('benevolent', 'JJ'), ('but', 'CC'), ('because', 'IN'), ('we', 'PRP'), ('think', 'VBP'), ('those', 'DT'), ('are', 'VBP'), ('bad', 'JJ'), ('signals', 'NNS'), ('into', 'IN'), ('the', 'DT'), ('odds', 'NNS'), ('of', 'IN'), ('success', 'NN'), ('on', 'IN'), ('the', 'DT'), ('internet', 'NN'), (',', ','), (\"''\", \"''\"), ('he', 'PRP'), ('said', 'VBD'), ('.', '.'), ('A', 'NNP'), ('Shopify', 'NNP'), ('spokesperson', 'NN'), ('said', 'VBD'), ('funding', 'NN'), ('goes', 'VBZ'), ('from', 'IN'), ('$', '$'), ('200', 'CD'), ('to', 'TO'), ('$', '$'), ('2', 'CD'), ('million', 'CD'), ('.', '.'), ('It', 'PRP'), ('has', 'VBZ'), ('provided', 'VBN'), ('$', '$'), ('2.3', 'CD'), ('billion', 'CD'), ('in', 'IN'), ('cumulative', 'JJ'), ('capital', 'NN'), ('advances', 'NNS'), ('and', 'CC'), ('is', 'VBZ'), ('valued', 'VBN'), ('at', 'IN'), ('$', '$'), ('184', 'CD'), ('billion', 'CD'), (',', ','), ('well', 'RB'), ('above', 'IN'), ('Royal', 'NNP'), ('Bank', 'NNP'), ('of', 'IN'), ('Canada', 'NNP'), ('(', '('), ('RY.TO', 'NNP'), (')', ')'), (',', ','), ('the', 'DT'), ('country', 'NN'), (\"'s\", 'POS'), ('biggest', 'JJS'), ('traditional', 'JJ'), ('lender', 'NN'), ('.', '.'), ('CONNECTED', 'NNP'), ('FUTURE', 'NNP'), ('?', '.'), ('Shopify', 'NNP'), (\"'s\", 'POS'), ('lending', 'NN'), ('business', 'NN'), ('is', 'VBZ'), (',', ','), ('however', 'RB'), (',', ','), ('still', 'RB'), ('dwarfed', 'VBN'), ('by', 'IN'), ('the', 'DT'), ('big', 'JJ'), ('banks', 'NNS'), ('.', '.'), ('JPMorgan', 'NNP'), ('Chase', 'NNP'), ('&', 'CC'), ('Co', 'NNP'), ('(', '('), ('JPM.N', 'NNP'), (')', ')'), (',', ','), ('for', 'IN'), ('example', 'NN'), (',', ','), ('had', 'VBD'), ('a', 'DT'), ('consumer', 'NN'), ('and', 'CC'), ('community', 'NN'), ('loan', 'NN'), ('book', 'NN'), ('worth', 'JJ'), ('$', '$'), ('435', 'CD'), ('billion', 'CD'), ('at', 'IN'), ('the', 'DT'), ('end', 'NN'), ('of', 'IN'), ('June', 'NNP'), ('.', '.'), ('Major', 'JJ'), ('advances', 'NNS'), ('into', 'IN'), ('finance', 'NN'), ('by', 'IN'), ('companies', 'NNS'), ('from', 'IN'), ('other', 'JJ'), ('sectors', 'NNS'), ('could', 'MD'), ('also', 'RB'), ('be', 'VB'), ('limited', 'VBN'), ('by', 'IN'), ('regulators', 'NNS'), ('.', '.'), ('Officials', 'NNS'), ('from', 'IN'), ('the', 'DT'), ('Bank', 'NNP'), ('for', 'IN'), ('International', 'NNP'), ('Settlements', 'NNP'), (',', ','), ('a', 'DT'), ('consortium', 'NN'), ('of', 'IN'), ('central', 'JJ'), ('banks', 'NNS'), ('and', 'CC'), ('financial', 'JJ'), ('regulators', 'NNS'), (',', ','), ('warned', 'VBD'), ('watchdogs', 'NNS'), ('last', 'JJ'), ('month', 'NN'), ('to', 'TO'), ('get', 'VB'), ('to', 'TO'), ('grips', 'VB'), ('with', 'IN'), ('the', 'DT'), ('growing', 'VBG'), ('influence', 'NN'), ('of', 'IN'), ('technology', 'NN'), ('firms', 'NNS'), ('in', 'IN'), ('finance', 'NN'), ('.', '.'), ('read', 'VB'), ('more', 'JJR'), ('Bain', 'NNP'), (\"'s\", 'POS'), ('Harris', 'NNP'), ('said', 'VBD'), ('financial', 'JJ'), ('regulators', 'NNS'), ('were', 'VBD'), ('taking', 'VBG'), ('the', 'DT'), ('approach', 'NN'), ('that', 'WDT'), ('because', 'IN'), ('they', 'PRP'), ('do', 'VBP'), (\"n't\", 'RB'), ('know', 'VB'), ('how', 'WRB'), ('to', 'TO'), ('regulate', 'VB'), ('tech', 'JJ'), ('firms', 'NNS'), ('they', 'PRP'), ('are', 'VBP'), ('insisting', 'VBG'), ('there', 'EX'), (\"'s\", 'VBZ'), ('a', 'DT'), ('bank', 'NN'), ('behind', 'IN'), ('every', 'DT'), ('transaction', 'NN'), ('-', ':'), ('but', 'CC'), ('that', 'DT'), ('did', 'VBD'), ('not', 'RB'), ('mean', 'JJ'), ('banks', 'NNS'), ('would', 'MD'), ('prevent', 'VB'), ('fintechs', 'JJ'), ('encroaching', 'NN'), ('.', '.'), ('``', '``'), ('They', 'PRP'), ('are', 'VBP'), ('right', 'JJ'), ('that', 'IN'), ('the', 'DT'), ('banks', 'NNS'), ('will', 'MD'), ('always', 'RB'), ('have', 'VB'), ('a', 'DT'), ('role', 'NN'), ('but', 'CC'), ('it', 'PRP'), (\"'s\", 'VBZ'), ('not', 'RB'), ('a', 'DT'), ('very', 'RB'), ('remunerative', 'JJ'), ('role', 'NN'), ('and', 'CC'), ('it', 'PRP'), ('involves', 'VBZ'), ('very', 'RB'), ('little', 'JJ'), ('ownership', 'NN'), ('of', 'IN'), ('the', 'DT'), ('customer', 'NN'), (',', ','), (\"''\", \"''\"), ('he', 'PRP'), ('said', 'VBD'), ('.', '.'), ('Forrester', 'NNP'), ('analyst', 'NN'), ('Jacob', 'NNP'), ('Morgan', 'NNP'), ('said', 'VBD'), ('banks', 'NNS'), ('had', 'VBD'), ('to', 'TO'), ('decide', 'VB'), ('where', 'WRB'), ('they', 'PRP'), ('want', 'VBP'), ('to', 'TO'), ('be', 'VB'), ('in', 'IN'), ('the', 'DT'), ('finance', 'NN'), ('chain', 'NN'), ('.', '.'), ('``', '``'), ('Can', 'MD'), ('they', 'PRP'), ('afford', 'VB'), ('to', 'TO'), ('fight', 'VB'), ('for', 'IN'), ('customer', 'NN'), ('primacy', 'NN'), (',', ','), ('or', 'CC'), ('do', 'VBP'), ('they', 'PRP'), ('actually', 'RB'), ('see', 'VBP'), ('a', 'DT'), ('more', 'RBR'), ('profitable', 'JJ'), ('route', 'NN'), ('to', 'TO'), ('market', 'NN'), ('to', 'TO'), ('become', 'VB'), ('the', 'DT'), ('rails', 'NNS'), ('that', 'IN'), ('other', 'JJ'), ('people', 'NNS'), ('run', 'VBP'), ('on', 'IN'), ('top', 'NN'), ('of', 'IN'), ('?', '.'), (\"''\", \"''\"), ('he', 'PRP'), ('said', 'VBD'), ('.', '.'), ('``', '``'), ('Some', 'DT'), ('banks', 'NNS'), ('will', 'MD'), ('choose', 'VB'), ('to', 'TO'), ('do', 'VB'), ('both', 'DT'), ('.', '.'), (\"''\", \"''\"), ('And', 'CC'), ('some', 'DT'), ('are', 'VBP'), ('already', 'RB'), ('fighting', 'VBG'), ('back', 'RB'), ('.', '.'), ('Citigroup', 'NNP'), ('(', '('), ('C.N', 'NNP'), (')', ')'), ('has', 'VBZ'), ('teamed', 'VBN'), ('up', 'RP'), ('with', 'IN'), ('Google', 'NNP'), ('on', 'IN'), ('bank', 'NN'), ('accounts', 'NNS'), (',', ','), ('Goldman', 'NNP'), ('Sachs', 'NNP'), ('(', '('), ('GS.N', 'NNP'), (')', ')'), ('is', 'VBZ'), ('providing', 'VBG'), ('credit', 'NN'), ('cards', 'NNS'), ('for', 'IN'), ('Apple', 'NNP'), ('(', '('), ('AAPL.O', 'NNP'), (')', ')'), ('and', 'CC'), ('JPMorgan', 'NNP'), ('is', 'VBZ'), ('buying', 'VBG'), ('75', 'CD'), ('%', 'NN'), ('of', 'IN'), ('Volkswagen', 'NNP'), (\"'s\", 'POS'), ('payments', 'NNS'), ('business', 'NN'), ('and', 'CC'), ('plans', 'NNS'), ('to', 'TO'), ('expand', 'VB'), ('to', 'TO'), ('other', 'JJ'), ('industries', 'NNS'), ('.', '.'), ('read', 'VB'), ('more', 'JJR'), ('06:00:00', 'CD'), ('``', '``'), ('Connectivity', 'NNP'), ('between', 'IN'), ('different', 'JJ'), ('systems', 'NNS'), ('is', 'VBZ'), ('the', 'DT'), ('future', 'NN'), (',', ','), (\"''\", \"''\"), ('said', 'VBD'), ('Shahrokh', 'NNP'), ('Moinian', 'NNP'), (',', ','), ('head', 'NN'), ('of', 'IN'), ('wholesale', 'JJ'), ('payments', 'NNS'), (',', ','), ('EMEA', 'NNP'), (',', ','), ('at', 'IN'), ('JPMorgan', 'NNP'), ('.', '.'), ('``', '``'), ('We', 'PRP'), ('want', 'VBP'), ('to', 'TO'), ('be', 'VB'), ('the', 'DT'), ('leader', 'NN'), ('.', '.'), (\"''\", \"''\")]\n"
     ]
    }
   ],
   "source": [
    "# Txt tokenization\n",
    "tokens = nltk.pos_tag(tokens)\n",
    "print(tokens)"
   ]
  },
  {
   "cell_type": "code",
   "execution_count": 14,
   "id": "74d0f117-6bd6-4655-91c6-044906d66b9e",
   "metadata": {},
   "outputs": [
    {
     "name": "stdout",
     "output_type": "stream",
     "text": [
      "VB = 61\n",
      "VBG = 28\n",
      "VBZ = 39\n",
      "VBP = 41\n",
      "NN = 165\n",
      "NNS = 123\n",
      "NNP = 133\n",
      "NNPS = 1\n",
      "JJ = 87\n",
      "JJR = 5\n",
      "JJS = 3\n",
      "DT = 81\n",
      "WDT = 8\n",
      "RB = 51\n",
      "RBS = 1\n",
      "RBR = 1\n",
      "IN = 143\n",
      "CC = 45\n"
     ]
    }
   ],
   "source": [
    "# Word NLTK frequency\n",
    "VB = 0\n",
    "VBG = 0\n",
    "VBZ = 0 \n",
    "VBP = 0\n",
    "NN = 0\n",
    "NNS = 0 \n",
    "NNP = 0\n",
    "NNPS = 0\n",
    "JJ = 0 \n",
    "JJR = 0\n",
    "JJS = 0\n",
    "DT = 0\n",
    "WDT = 0 \n",
    "RB = 0\n",
    "RBS = 0\n",
    "RBR = 0\n",
    "WP = 0\n",
    "IN = 0\n",
    "CC = 0\n",
    "\n",
    "\n",
    "for i in tokens:\n",
    "    if (i[1] == \"VB\"):\n",
    "        VB +=1\n",
    "    elif (i[1] == \"VBG\"):\n",
    "        VBG +=1\n",
    "    elif (i[1] == \"VBZ\"):\n",
    "        VBZ +=1\n",
    "    elif  (i[1] == \"VBP\"):\n",
    "        VBP +=1\n",
    "    elif (i[1] == \"NN\"):\n",
    "        NN +=1\n",
    "    elif (i[1] == \"NNS\"):\n",
    "        NNS +=1\n",
    "    elif (i[1] == \"NNP\"):\n",
    "        NNP +=1\n",
    "    elif (i[1] == \"NNPS\"):\n",
    "        NNPS +=1\n",
    "    elif (i[1] == \"JJ\"):\n",
    "        JJ +=1\n",
    "    elif (i[1] == \"JJR\"):\n",
    "        JJR +=1\n",
    "    elif (i[1] == \"JJS\"):\n",
    "        JJS +=1\n",
    "    elif (i[1] == \"DT\"):\n",
    "        DT +=1\n",
    "    elif (i[1] == \"WDT\"):\n",
    "        WDT +=1\n",
    "    elif (i[1] == \"RB\"):\n",
    "        RB +=1\n",
    "    elif (i[1] == \"RBS\"):\n",
    "        RBS +=1\n",
    "    elif (i[1]==\"RBR\"):\n",
    "        RBR +=1\n",
    "    elif (i[1]==\"WP\"):\n",
    "        WP +=1\n",
    "    elif i[1] == \"IN\":\n",
    "        IN +=1\n",
    "    elif (i[1] == \"CC\"):\n",
    "        CC +=1\n",
    "            \n",
    "print(\"VB = \"+str(VB))\n",
    "print(\"VBG = \"+str(VBG))\n",
    "print(\"VBZ = \"+str(VBZ))\n",
    "print(\"VBP = \"+str(VBP))\n",
    "print(\"NN = \"+str(NN))\n",
    "print(\"NNS = \"+str(NNS))\n",
    "print(\"NNP = \"+str(NNP))\n",
    "print(\"NNPS = \"+str(NNPS))\n",
    "print(\"JJ = \"+str(JJ))\n",
    "print(\"JJR = \"+str(JJR))\n",
    "print(\"JJS = \"+str(JJS))\n",
    "print(\"DT = \"+str(DT))\n",
    "print(\"WDT = \"+str(WDT))\n",
    "print(\"RB = \"+str(RB))\n",
    "print(\"RBS = \"+str(RBS))\n",
    "print(\"RBR = \"+str(RBR))\n",
    "print(\"IN = \"+str(IN))\n",
    "print(\"CC = \"+str(CC))\n"
   ]
  },
  {
   "cell_type": "code",
   "execution_count": 15,
   "id": "cd96b694-e7d2-49d8-b611-43af1f1140cc",
   "metadata": {},
   "outputs": [],
   "source": [
    "sc.stop()"
   ]
  },
  {
   "cell_type": "code",
   "execution_count": null,
   "id": "92fdbb50-c6e7-442f-b198-22f6cb3d2992",
   "metadata": {},
   "outputs": [],
   "source": []
  },
  {
   "cell_type": "code",
   "execution_count": null,
   "id": "4569d610-9789-42f4-900b-3d4c7d54e69f",
   "metadata": {},
   "outputs": [],
   "source": []
  },
  {
   "cell_type": "code",
   "execution_count": null,
   "id": "e1445ddf-3cd9-4bc2-9f07-4f82a30cf334",
   "metadata": {},
   "outputs": [],
   "source": []
  }
 ],
 "metadata": {
  "kernelspec": {
   "display_name": "Python 3 (ipykernel)",
   "language": "python",
   "name": "python3"
  },
  "language_info": {
   "codemirror_mode": {
    "name": "ipython",
    "version": 3
   },
   "file_extension": ".py",
   "mimetype": "text/x-python",
   "name": "python",
   "nbconvert_exporter": "python",
   "pygments_lexer": "ipython3",
   "version": "3.9.7"
  }
 },
 "nbformat": 4,
 "nbformat_minor": 5
}
